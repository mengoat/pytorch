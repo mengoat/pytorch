{
 "cells": [
  {
   "cell_type": "markdown",
   "metadata": {},
   "source": [
    "# Pytorch 教程\n",
    "## 配套教材《深度学习入门——基于python的理论与实现》"
   ]
  },
  {
   "cell_type": "markdown",
   "metadata": {},
   "source": [
    "## 神经网络 以MNIST为例"
   ]
  },
  {
   "cell_type": "code",
   "execution_count": 1,
   "metadata": {},
   "outputs": [],
   "source": [
    "import torch\n",
    "import torch.nn as nn\n",
    "import torch.nn.functional as F\n",
    "import torchvision\n",
    "import matplotlib.pyplot as plt\n"
   ]
  },
  {
   "cell_type": "code",
   "execution_count": 2,
   "metadata": {},
   "outputs": [],
   "source": [
    "n_epochs = 20\n",
    "batch_size = 100\n",
    "learning_rate = 0.01\n",
    "#超参数设置"
   ]
  },
  {
   "cell_type": "code",
   "execution_count": 3,
   "metadata": {},
   "outputs": [],
   "source": [
    "train_loader = torch.utils.data.DataLoader(\n",
    "  torchvision.datasets.MNIST('./data/', train=True, download=True,\n",
    "                             transform=torchvision.transforms.Compose([\n",
    "                               torchvision.transforms.ToTensor(),\n",
    "                               torchvision.transforms.Normalize(\n",
    "                                 (0.1307,), (0.3081,))\n",
    "                             ])),\n",
    "  batch_size=batch_size, shuffle=True)\n",
    "\n",
    "test_loader = torch.utils.data.DataLoader(\n",
    "  torchvision.datasets.MNIST('./data/', train=False, download=True,\n",
    "                             transform=torchvision.transforms.Compose([\n",
    "                               torchvision.transforms.ToTensor(),\n",
    "                               torchvision.transforms.Normalize(\n",
    "                                 (0.1307,), (0.3081,))\n",
    "                             ])),\n",
    "  batch_size=batch_size, shuffle=True)\n",
    "#读取数据"
   ]
  },
  {
   "cell_type": "code",
   "execution_count": 4,
   "metadata": {},
   "outputs": [
    {
     "name": "stdout",
     "output_type": "stream",
     "text": [
      "Net(\n",
      "  (conv1): Conv2d(1, 6, kernel_size=(5, 5), stride=(1, 1))\n",
      "  (conv2): Conv2d(6, 16, kernel_size=(5, 5), stride=(1, 1))\n",
      "  (fc1): Linear(in_features=256, out_features=120, bias=True)\n",
      "  (fc2): Linear(in_features=120, out_features=84, bias=True)\n",
      "  (fc3): Linear(in_features=84, out_features=10, bias=True)\n",
      ")\n"
     ]
    }
   ],
   "source": [
    "class Net(nn.Module):\n",
    "\n",
    "    def __init__(self):\n",
    "        super(Net, self).__init__()\n",
    "        # 1 input image channel, 6 output channels, 5x5 square convolution\n",
    "        # kernel\n",
    "        self.conv1 = nn.Conv2d(1, 6, 5)\n",
    "        self.conv2 = nn.Conv2d(6, 16, 5)\n",
    "        # an affine operation: y = Wx + b\n",
    "        self.fc1 = nn.Linear(256, 120)\n",
    "        self.fc2 = nn.Linear(120, 84)\n",
    "        self.fc3 = nn.Linear(84, 10)\n",
    "\n",
    "    def forward(self, x):\n",
    "        # Max pooling over a (2, 2) window\n",
    "        x = F.max_pool2d(F.relu(self.conv1(x)), (2, 2))\n",
    "        # If the size is a square you can only specify a single number\n",
    "        x = F.max_pool2d(F.relu(self.conv2(x)), 2)\n",
    "        x = x.view(-1, self.num_flat_features(x))\n",
    "        x = F.relu(self.fc1(x))\n",
    "        x = F.relu(self.fc2(x))\n",
    "        x = self.fc3(x)\n",
    "        return x\n",
    "\n",
    "    def num_flat_features(self, x):\n",
    "        size = x.size()[1:]  # all dimensions except the batch dimension\n",
    "        num_features = 1\n",
    "        for s in size:\n",
    "            num_features *= s\n",
    "        return num_features\n",
    "\n",
    "\n",
    "net = Net()\n",
    "print(net)"
   ]
  },
  {
   "cell_type": "code",
   "execution_count": 5,
   "metadata": {},
   "outputs": [
    {
     "name": "stdout",
     "output_type": "stream",
     "text": [
      "torch.Size([100, 1, 28, 28])\n"
     ]
    },
    {
     "data": {
      "text/plain": [
       "torch.Size([100, 10])"
      ]
     },
     "execution_count": 5,
     "metadata": {},
     "output_type": "execute_result"
    }
   ],
   "source": [
    "examples = enumerate(test_loader)\n",
    "batch_idx, (example_data, example_targets) = next(examples)\n",
    "print(example_data.shape)\n",
    "net(example_data).shape\n"
   ]
  },
  {
   "cell_type": "code",
   "execution_count": 6,
   "metadata": {},
   "outputs": [],
   "source": [
    "def loader_acc(net,loader):\n",
    "    acc_num = 0\n",
    "    item_num = 0\n",
    "    for data in enumerate(loader):\n",
    "        \n",
    "        idx = data[0]\n",
    "        (features,label) = data[1]\n",
    "        \n",
    "        output = net(features)\n",
    "        output = torch.argmax(output,1)\n",
    "        acc_sum = torch.sum(output==label)\n",
    "        acc_num+=acc_sum.item()\n",
    "        item_num +=len(label)\n",
    "    return (acc_num/item_num)    \n",
    "#正确率测试"
   ]
  },
  {
   "cell_type": "code",
   "execution_count": 7,
   "metadata": {},
   "outputs": [
    {
     "name": "stdout",
     "output_type": "stream",
     "text": [
      "epoch  0 train_acc 0.9798166666666667 test_acc 0.9775\n",
      "epoch  1 train_acc 0.9760833333333333 test_acc 0.9744\n",
      "epoch  2 train_acc 0.9786666666666667 test_acc 0.9762\n",
      "epoch  3 train_acc 0.9809 test_acc 0.979\n",
      "epoch  4 train_acc 0.9856833333333334 test_acc 0.9819\n",
      "epoch  5 train_acc 0.9880166666666667 test_acc 0.9826\n",
      "epoch  6 train_acc 0.9867 test_acc 0.9832\n",
      "epoch  7 train_acc 0.98555 test_acc 0.9815\n",
      "epoch  8 train_acc 0.9878166666666667 test_acc 0.9835\n",
      "epoch  9 train_acc 0.9864 test_acc 0.9804\n",
      "epoch  10 train_acc 0.9868833333333333 test_acc 0.9814\n",
      "epoch  11 train_acc 0.98705 test_acc 0.9822\n",
      "epoch  12 train_acc 0.9895333333333334 test_acc 0.9818\n",
      "epoch  13 train_acc 0.9806 test_acc 0.9752\n",
      "epoch  14 train_acc 0.9836 test_acc 0.9774\n",
      "epoch  15 train_acc 0.9885 test_acc 0.9823\n",
      "epoch  16 train_acc 0.9915666666666667 test_acc 0.9842\n",
      "epoch  17 train_acc 0.98935 test_acc 0.9814\n",
      "epoch  18 train_acc 0.9940833333333333 test_acc 0.9868\n",
      "epoch  19 train_acc 0.9895 test_acc 0.9835\n"
     ]
    }
   ],
   "source": [
    "#训练过程\n",
    "import torch.optim as optim\n",
    "\n",
    "criterion = nn.CrossEntropyLoss()\n",
    "optimizer = optim.Adam(net.parameters(), lr=learning_rate)\n",
    "\n",
    "train_accuracy_list = []\n",
    "test_accuracy_list = []\n",
    "\n",
    "for count in range(n_epochs): \n",
    "    for train in enumerate(train_loader):\n",
    "\n",
    "        train_idx = train[0]\n",
    "        (train_data,train_label) = train[1]  \n",
    "        \n",
    "        optimizer.zero_grad()   # zero the gradient buffers\n",
    "        \n",
    "        train_output = net(train_data)\n",
    "        train_loss = criterion(train_output,train_label)\n",
    "        train_loss.backward()\n",
    "        \n",
    "        optimizer.step()    # Does the update\n",
    "        \n",
    "\n",
    "    train_accuracy = loader_acc(net,train_loader)\n",
    "    train_accuracy_list.append(train_accuracy)\n",
    "    test_accuracy = loader_acc(net,test_loader)\n",
    "    test_accuracy_list.append(test_accuracy)\n",
    "    print(\"epoch \",count,\"train_acc\",train_accuracy,\"test_acc\",test_accuracy)\n",
    "    #     print(accuracy)\n",
    "    #     print(\"train loss:\",train_loss.item(),\"test loss:\",test_loss.item())"
   ]
  },
  {
   "cell_type": "code",
   "execution_count": 8,
   "metadata": {},
   "outputs": [
    {
     "data": {
      "image/png": "[encoded data removed]",
      "text/plain": [
       "<Figure size 432x288 with 1 Axes>"
      ]
     },
     "metadata": {
      "needs_background": "light"
     },
     "output_type": "display_data"
    }
   ],
   "source": [
    "# train_loss_list\n",
    "# test_loss_list\n",
    "#画曲线\n",
    "x = torch.arange(0,len(train_accuracy_list))\n",
    "y1 = train_accuracy_list\n",
    "y2 = test_accuracy_list\n",
    "#plt.subplot(1,2,1)\n",
    "plt.plot(x,y1,label='train_acc')\n",
    "plt.plot(x,y2,label='test_acc',linestyle='--')\n",
    "plt.xlabel('epoch')\n",
    "plt.ylabel('acc')\n",
    "plt.legend()\n",
    "\n",
    "# x1 = torch.arange(0,len(train_loss_list))\n",
    "# t1 = train_loss_list\n",
    "# t2 = test_loss_list\n",
    "\n",
    "# plt.subplot(1,2,2)\n",
    "# plt.plot(x1,t1,label='train_loss')\n",
    "# plt.plot(x1,t2,label='test_loss',linestyle='--')\n",
    "# plt.xlabel('batch')\n",
    "# plt.ylabel('loss')\n",
    "# plt.legend()\n",
    "plt.show()"
   ]
  }
 ],
 "metadata": {
  "kernelspec": {
   "display_name": "Python 3",
   "language": "python",
   "name": "python3"
  },
  "language_info": {
   "codemirror_mode": {
    "name": "ipython",
    "version": 3
   },
   "file_extension": ".py",
   "mimetype": "text/x-python",
   "name": "python",
   "nbconvert_exporter": "python",
   "pygments_lexer": "ipython3",
   "version": "3.7.6"
  }
 },
 "nbformat": 4,
 "nbformat_minor": 4
}
