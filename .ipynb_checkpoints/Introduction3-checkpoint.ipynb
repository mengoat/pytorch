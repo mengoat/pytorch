{
 "cells": [
  {
   "cell_type": "markdown",
   "metadata": {},
   "source": [
    "# Pytorch 教程\n",
    "## 配套教材《深度学习入门——基于python的理论与实现》"
   ]
  },
  {
   "cell_type": "markdown",
   "metadata": {},
   "source": [
    "### 将Pytorch 的函数封装成层"
   ]
  },
  {
   "cell_type": "markdown",
   "metadata": {},
   "source": [
    "PyTorch 提供两个模块来帮助我们构建模型，一个是Sequential，一个是 Module。\n",
    "Sequential 允许我们构建序列化的模块(网络是线性排列)，而 Module 是一种更加灵活的模型定义方式（可以实现较为复杂的网络结构）。"
   ]
  },
  {
   "cell_type": "code",
   "execution_count": null,
   "metadata": {},
   "outputs": [],
   "source": [
    "import torch\n",
    "import torch.nn as nn\n",
    "# N是批大小；D是输入维度\n",
    "# H是隐藏层维度；D_out是输出维度\n",
    "N, D_in, H, D_out = 64, 1000, 100, 10\n",
    "#创建输入和输出随机张量\n",
    "x = torch.randn(N, D_in)\n",
    "y = torch.randn(N, D_out)\n",
    "# 使用nn包将我们的模型定义为一系列的层。\n",
    "\n",
    "# nn.Sequential是包含其他模块的模块，并按顺序应用这些模块来产生其输出。\n",
    "\n",
    "# 每个线性模块使用线性函数从输入计算输出，并保存其内部的权重和偏差张量。\n",
    "# 在构造模型之后，我们使用.to()方法将其移动到所需的设备。\n",
    "        \n",
    "# nn包还包含常用的损失函数的定义；\n",
    "# 在这种情况下，我们将使用平均平方误差(MSE)作为我们的损失函数。\n",
    "# 设置reduction='sum'，表示我们计算的是平方误差的“和”，而不是平均值;\n",
    "# 这是为了与前面我们手工计算损失的例子保持一致，\n",
    "# 但是在实践中，通过设置reduction='elementwise_mean'来使用均方误差作为损失更为常见。\n",
    "loss_fn = torch.nn.MSELoss(reduction='sum')\n",
    "learning_rate = 1e-4\n",
    "for t in range(500):\n",
    "    # 前向传播：通过向模型传入x计算预测的y。\n",
    "    # 模块对象重载了__call__运算符，所以可以像函数那样调用它们。\n",
    "    # 这么做相当于向模块传入了一个张量，然后它返回了一个输出张量。\n",
    "    y_pred = model(x)\n",
    "     # 计算并打印损失。\n",
    "     # 传递包含y的预测值和真实值的张量，损失函数返回包含损失的张量。\n",
    "    loss = loss_fn(y_pred, y)\n",
    "    print(t, loss.item())\n",
    "    # 反向传播之前清零梯度\n",
    "    model.zero_grad()\n",
    "    # 反向传播：计算模型的损失对所有可学习参数的导数（梯度）。\n",
    "    # 在内部，每个模块的参数存储在requires_grad=True的张量中，\n",
    "    # 因此这个调用将计算模型中所有可学习参数的梯度。\n",
    "    loss.backward()\n",
    "    # 使用梯度下降更新权重。\n",
    "    # 每个参数都是张量，所以我们可以像我们以前那样可以得到它的数值和梯度\n",
    "    with torch.no_grad():\n",
    "        for param in model.parameters():\n",
    "            param -= learning_rate * param.grad"
   ]
  },
  {
   "cell_type": "code",
   "execution_count": null,
   "metadata": {},
   "outputs": [],
   "source": [
    "import torch\n",
    "# N是批大小；D是输入维度\n",
    "# H是隐藏层维度；D_out是输出维度\n",
    "N, D_in, H, D_out = 64, 1000, 100, 10\n",
    "# 产生随机输入和输出张量\n",
    "x = torch.randn(N, D_in)\n",
    "y = torch.randn(N, D_out)\n",
    "# 使用nn包定义模型和损失函数\n",
    "model = torch.nn.Sequential(\n",
    "          torch.nn.Linear(D_in, H),\n",
    "          torch.nn.ReLU(),\n",
    "          torch.nn.Linear(H, D_out),\n",
    "        )\n",
    "loss_fn = torch.nn.MSELoss(reduction='mean')\n",
    "learning_rate = 1e-4\n",
    "optimizer = torch.optim.Adam(model.parameters(), lr=learning_rate)\n",
    "\n",
    "for t in range(500):\n",
    "    # 前向传播：通过像模型输入x计算预测的y\n",
    "    y_pred = model(x)\n",
    "    # 计算并打印loss\n",
    "    loss = loss_fn(y_pred, y)\n",
    "    print(t, loss.item())\n",
    "    \n",
    "    # 在反向传播之前，使用optimizer将它要更新的所有张量的梯度清零(这些张量是模型可学习的权重)\n",
    "    optimizer.zero_grad()\n",
    "    # 反向传播：根据模型的参数计算loss的梯度\n",
    "    loss.backward()\n",
    "    # 调用Optimizer的step函数使它所有参数更新\n",
    "    optimizer.step()"
   ]
  },
  {
   "cell_type": "code",
   "execution_count": 30,
   "metadata": {},
   "outputs": [
    {
     "name": "stdout",
     "output_type": "stream",
     "text": [
      "0 1.050244927406311\n",
      "1 1.1085119247436523\n",
      "2 1.0467908382415771\n",
      "3 1.0467795133590698\n",
      "4 1.0474863052368164\n"
     ]
    }
   ],
   "source": [
    "import torch\n",
    "import torch.nn as nn\n",
    "import random\n",
    "N,D_in,H,D_out = 64,1000,100,10\n",
    "x = torch.randn(N,D_in)\n",
    "y = torch.randn(N,D_out)\n",
    "\n",
    "class model(nn.Module):\n",
    "    def __init__(self):\n",
    "        super(model,self).__init__()\n",
    "        self.input_linear = nn.Linear(D_in,H)\n",
    "        self.middle_linear = nn.Linear(H,H)\n",
    "        self.output_linear = nn.Linear(H,D_out)\n",
    "    def forward(self,x):\n",
    "        h_relu = self.input_linear(x).clamp(min=0)\n",
    "        for _ in range(random.randint(0, 3)):\n",
    "            h_relu = self.middle_linear(h_relu).clamp(min=0)\n",
    "        y_pred = self.output_linear(h_relu)\n",
    "        return y_pred\n",
    "\n",
    "model = model()\n",
    "criterion = torch.nn.MSELoss(reduction='mean')\n",
    "optimizer = torch.optim.SGD(model.parameters(), lr=1e-4, momentum=0.9)\n",
    "for t in range(5):\n",
    "    # 前向传播：通过向模型传入x计算预测的y。\n",
    "    y_pred = model(x)\n",
    "    # 计算并打印损失\n",
    "    loss = criterion(y_pred, y)\n",
    "    print(t, loss.item())\n",
    "    # 清零梯度，反向传播，更新权重 \n",
    "    optimizer.zero_grad()\n",
    "    loss.backward()\n",
    "    optimizer.step()"
   ]
  }
 ],
 "metadata": {
  "kernelspec": {
   "display_name": "Python 3",
   "language": "python",
   "name": "python3"
  },
  "language_info": {
   "codemirror_mode": {
    "name": "ipython",
    "version": 3
   },
   "file_extension": ".py",
   "mimetype": "text/x-python",
   "name": "python",
   "nbconvert_exporter": "python",
   "pygments_lexer": "ipython3",
   "version": "3.7.6"
  }
 },
 "nbformat": 4,
 "nbformat_minor": 4
}
