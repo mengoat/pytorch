{
 "cells": [
  {
   "cell_type": "markdown",
   "metadata": {},
   "source": [
    "# Pytorch 教程\n",
    "## 配套教材《深度学习入门——基于python的理论与实现》"
   ]
  },
  {
   "cell_type": "markdown",
   "metadata": {},
   "source": [
    "## 初识torch\n",
    "### 按照形状构建tensor"
   ]
  },
  {
   "cell_type": "code",
   "execution_count": 1,
   "metadata": {},
   "outputs": [],
   "source": [
    "import torch"
   ]
  },
  {
   "cell_type": "code",
   "execution_count": null,
   "metadata": {},
   "outputs": [],
   "source": [
    "t1 = torch.empty(2,3)\n",
    "t1"
   ]
  },
  {
   "cell_type": "code",
   "execution_count": null,
   "metadata": {},
   "outputs": [],
   "source": [
    "t2 = torch.rand(2,3)\n",
    "t2"
   ]
  },
  {
   "cell_type": "code",
   "execution_count": null,
   "metadata": {},
   "outputs": [],
   "source": [
    "t3 = torch.zeros(2,3,dtype=torch.long)\n",
    "t3"
   ]
  },
  {
   "cell_type": "code",
   "execution_count": null,
   "metadata": {},
   "outputs": [],
   "source": [
    "t4 = torch.ones(2,3,dtype=torch.long)\n",
    "t4"
   ]
  },
  {
   "cell_type": "markdown",
   "metadata": {},
   "source": [
    "### 按照数据构建tensor"
   ]
  },
  {
   "cell_type": "code",
   "execution_count": null,
   "metadata": {},
   "outputs": [],
   "source": [
    "t5 = torch.tensor([5.5,3],dtype=torch.float32)\n",
    "t5"
   ]
  },
  {
   "cell_type": "code",
   "execution_count": null,
   "metadata": {},
   "outputs": [],
   "source": [
    "t6 = t5.new_ones(5,3,dtype=torch.float32)\n",
    "t6"
   ]
  },
  {
   "cell_type": "code",
   "execution_count": null,
   "metadata": {},
   "outputs": [],
   "source": [
    "t7  = torch.randn_like(t6)\n",
    "t7"
   ]
  },
  {
   "cell_type": "markdown",
   "metadata": {},
   "source": [
    "### 获取tensor信息\n"
   ]
  },
  {
   "cell_type": "code",
   "execution_count": null,
   "metadata": {},
   "outputs": [],
   "source": [
    "t7.size()"
   ]
  },
  {
   "cell_type": "markdown",
   "metadata": {},
   "source": [
    "### 操作"
   ]
  },
  {
   "cell_type": "markdown",
   "metadata": {},
   "source": [
    "#### 加法"
   ]
  },
  {
   "cell_type": "code",
   "execution_count": null,
   "metadata": {},
   "outputs": [],
   "source": [
    "op1 = torch.rand(5,3,dtype=torch.float32)\n",
    "op2 = torch.rand(5,3,dtype=torch.float32)\n",
    "print(op1)\n",
    "print(op2)\n",
    "print(op1+op2)\n",
    "print(torch.add(op1,op2))"
   ]
  },
  {
   "cell_type": "code",
   "execution_count": null,
   "metadata": {},
   "outputs": [],
   "source": [
    "op1 = torch.rand(5,3,dtype=torch.float32)\n",
    "op2 = torch.rand(5,3,dtype=torch.float32)\n",
    "result = torch.add(op1,op2)\n",
    "result = torch.empty(5,3)\n",
    "torch.add(op1,op2,out=result)\n",
    "result"
   ]
  },
  {
   "cell_type": "code",
   "execution_count": null,
   "metadata": {},
   "outputs": [],
   "source": [
    "op1 = torch.rand(5,3,dtype=torch.float32)\n",
    "op2 = torch.rand(5,3,dtype=torch.float32)\n",
    "print(op1)\n",
    "print(op2)\n",
    "op1.add_(op2)\n",
    "print(op1)"
   ]
  },
  {
   "cell_type": "markdown",
   "metadata": {},
   "source": [
    "#### 变形"
   ]
  },
  {
   "cell_type": "code",
   "execution_count": null,
   "metadata": {},
   "outputs": [],
   "source": [
    "#torch.randn 正态分布\n",
    "#torch.rand 均匀分布\n",
    "x = torch.randn(4,4)\n",
    "y= x.view(16)\n",
    "z = x.view(-1,8)\n",
    "print(x.size(),y.size(),z.size())"
   ]
  },
  {
   "cell_type": "markdown",
   "metadata": {},
   "source": [
    "#### 获取值"
   ]
  },
  {
   "cell_type": "code",
   "execution_count": null,
   "metadata": {},
   "outputs": [],
   "source": [
    "x = torch.randn(1)\n",
    "x.item()"
   ]
  },
  {
   "cell_type": "markdown",
   "metadata": {},
   "source": [
    "## 自动微分"
   ]
  },
  {
   "cell_type": "code",
   "execution_count": null,
   "metadata": {},
   "outputs": [],
   "source": [
    "x  = torch.rand(2,2,requires_grad=True)\n",
    "y = x+2\n",
    "z = y * y * 3\n",
    "out = z.mean()\n",
    "out.backward()\n",
    "print(x.grad)"
   ]
  },
  {
   "cell_type": "code",
   "execution_count": 5,
   "metadata": {},
   "outputs": [
    {
     "name": "stdout",
     "output_type": "stream",
     "text": [
      "tensor([2.2000])\n",
      "tensor([110.])\n",
      "tensor([3.3000])\n",
      "tensor([165.])\n",
      "tensor([650.])\n"
     ]
    }
   ],
   "source": [
    "#Page 138\n",
    "#计算节点\n",
    "apple = torch.tensor([100],dtype=torch.float32,requires_grad = True)\n",
    "apple_num = torch.tensor([2],dtype=torch.float32,requires_grad=True)\n",
    "orange = torch.tensor([150],dtype=torch.float32,requires_grad=True)\n",
    "orange_num = torch.tensor([3],dtype=torch.float32,requires_grad=True)\n",
    "tax = torch.tensor([1.1],dtype=torch.float32,requires_grad =True)\n",
    "\n",
    "#计算图构建\n",
    "apple_price = apple*apple_num\n",
    "orange_price = orange*orange_num \n",
    "all_price = apple_price+orange_price\n",
    "price = all_price*tax\n",
    "\n",
    "#反向传播\n",
    "price.backward(torch.tensor([1], dtype=torch.float))\n",
    "\n",
    "print(apple.grad)\n",
    "print(apple_num.grad)\n",
    "print(orange.grad)\n",
    "print(orange_num.grad)\n",
    "print(tax.grad)"
   ]
  },
  {
   "cell_type": "code",
   "execution_count": null,
   "metadata": {},
   "outputs": [],
   "source": [
    "x = torch.randn(3, requires_grad=True)\n",
    "\n",
    "y = x * 2\n",
    "while y.data.norm() < 1000:\n",
    "    y = y * 2\n",
    "print(y)\n",
    "v = torch.tensor([0.1, 1.0, 0.0001], dtype=torch.float)\n",
    "y.backward(v)\n",
    "x.grad\n"
   ]
  }
 ],
 "metadata": {
  "kernelspec": {
   "display_name": "Python 3",
   "language": "python",
   "name": "python3"
  },
  "language_info": {
   "codemirror_mode": {
    "name": "ipython",
    "version": 3
   },
   "file_extension": ".py",
   "mimetype": "text/x-python",
   "name": "python",
   "nbconvert_exporter": "python",
   "pygments_lexer": "ipython3",
   "version": "3.7.6"
  }
 },
 "nbformat": 4,
 "nbformat_minor": 4
}
